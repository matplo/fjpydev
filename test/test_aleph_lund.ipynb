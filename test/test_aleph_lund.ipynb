{
 "cells": [
  {
   "cell_type": "code",
   "execution_count": 1,
   "metadata": {},
   "outputs": [],
   "source": [
    "import fastjet as fj\n",
    "from lundplane import pylundplane as lund\n",
    "from mptools import pymptools as mpt\n",
    "\n",
    "from tqdm import tqdm\n",
    "import math\n",
    "%matplotlib inline\n",
    "import matplotlib.pyplot as plt\n",
    "import seaborn as sns\n",
    "sns.set_context('notebook')\n",
    "%config InlineBackend.figure_format = 'retina'\n",
    "from tqdm import tnrange, tqdm_notebook"
   ]
  },
  {
   "cell_type": "code",
   "execution_count": 2,
   "metadata": {},
   "outputs": [],
   "source": [
    "aleph_file=\"/Volumes/two/data/aleph/LEP1Data1992_recons_aftercut-001.aleph\"\n",
    "mpt.dump(aleph_file, 2, False);\n",
    "# mpt.dump(aleph_file, -1, True);"
   ]
  },
  {
   "cell_type": "code",
   "execution_count": 3,
   "metadata": {},
   "outputs": [
    {
     "name": "stdout",
     "output_type": "stream",
     "text": [
      "\n"
     ]
    }
   ],
   "source": [
    "# print the banner first\n",
    "fj.ClusterSequence.print_banner()\n",
    "print()\n",
    "# set up our jet definition and a jet selector\n",
    "jet_R0 = 0.4\n",
    "jet_def = fj.JetDefinition(fj.antikt_algorithm, jet_R0)\n",
    "#jet_selector = fj.SelectorPtMin(0.0) & fj.SelectorPtMax(200.0) & fj.SelectorAbsEtaMax(1)\n",
    "jet_selector = fj.SelectorPtMin(0.0) & fj.SelectorPtMax(200.0)"
   ]
  },
  {
   "cell_type": "code",
   "execution_count": 5,
   "metadata": {},
   "outputs": [
    {
     "data": {
      "application/vnd.jupyter.widget-view+json": {
       "model_id": "8be66d6c9b2f4c39b978639b4a93f363",
       "version_major": 2,
       "version_minor": 0
      },
      "text/plain": [
       "HBox(children=(IntProgress(value=0, max=14024), HTML(value='')))"
      ]
     },
     "metadata": {},
     "output_type": "display_data"
    },
    {
     "name": "stdout",
     "output_type": "stream",
     "text": [
      "CPU times: user 22 s, sys: 629 ms, total: 22.6 s\n",
      "Wall time: 22.6 s\n"
     ]
    }
   ],
   "source": [
    "%%time\n",
    "all_jets = []\n",
    "reader = mpt.Reader(aleph_file)\n",
    "pbar = tqdm_notebook(total=14024)\n",
    "while reader.read_next_event():\n",
    "    pbar.update()\n",
    "    e = reader.get_event()\n",
    "    parts = []\n",
    "    # aleph_parts = e.get_particles()\n",
    "    # print(len(aleph_parts))\n",
    "    for p in e.get_particles():\n",
    "        psj = fj.PseudoJet(p.px(), p.py(), p.pz(), p.e())\n",
    "        parts.append(psj)\n",
    "    jets = jet_selector(jet_def(parts))\n",
    "    all_jets.extend(jets)"
   ]
  },
  {
   "cell_type": "code",
   "execution_count": 6,
   "metadata": {},
   "outputs": [
    {
     "name": "stdout",
     "output_type": "stream",
     "text": [
      "CPU times: user 1.15 s, sys: 332 ms, total: 1.49 s\n",
      "Wall time: 1.56 s\n"
     ]
    }
   ],
   "source": [
    "%%time\n",
    "jet_def_lund = fj.JetDefinition(fj.cambridge_algorithm, 1.0)\n",
    "lund_gen = lund.LundGenerator(jet_def_lund)\n",
    "lunds = [lund_gen.result(j) for j in all_jets]"
   ]
  },
  {
   "cell_type": "code",
   "execution_count": 7,
   "metadata": {},
   "outputs": [
    {
     "name": "stdout",
     "output_type": "stream",
     "text": [
      "CPU times: user 1.75 s, sys: 243 ms, total: 2 s\n",
      "Wall time: 2.02 s\n"
     ]
    }
   ],
   "source": [
    "%%time\n",
    "log_kt = []\n",
    "log_1oDelta = []\n",
    "for l in lunds:\n",
    "    for s in l:\n",
    "        log_kt.append(math.log(s.kt()))\n",
    "        log_1oDelta.append(math.log(1./s.Delta()))"
   ]
  },
  {
   "cell_type": "code",
   "execution_count": 8,
   "metadata": {},
   "outputs": [
    {
     "data": {
      "image/png": "[encoded data removed]",
      "text/plain": [
       "<Figure size 432x288 with 1 Axes>"
      ]
     },
     "metadata": {
      "image/png": {
       "height": 253,
       "width": 374
      },
      "needs_background": "light"
     },
     "output_type": "display_data"
    }
   ],
   "source": [
    "b, x, y, ax = plt.hist2d(log_1oDelta, log_kt, bins=100)"
   ]
  },
  {
   "cell_type": "code",
   "execution_count": null,
   "metadata": {},
   "outputs": [],
   "source": []
  }
 ],
 "metadata": {
  "kernelspec": {
   "display_name": "Python 3",
   "language": "python",
   "name": "python3"
  },
  "language_info": {
   "codemirror_mode": {
    "name": "ipython",
    "version": 3
   },
   "file_extension": ".py",
   "mimetype": "text/x-python",
   "name": "python",
   "nbconvert_exporter": "python",
   "pygments_lexer": "ipython3",
   "version": "3.7.3"
  }
 },
 "nbformat": 4,
 "nbformat_minor": 2
}
