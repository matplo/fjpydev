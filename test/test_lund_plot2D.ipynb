{
 "cells": [
  {
   "cell_type": "code",
   "execution_count": 10,
   "metadata": {},
   "outputs": [],
   "source": [
    "import fastjet as fj\n",
    "import pythia8\n",
    "from recursivetools import pyrecursivetools as rt\n",
    "from lundplane import pylundplane as lund\n",
    "from pythiafjtools import pypythiafjtools as pyfj\n",
    "import math\n",
    "%matplotlib inline\n",
    "import matplotlib.pyplot as plt\n",
    "import seaborn as sns\n",
    "sns.set_context('notebook')\n",
    "%config InlineBackend.figure_format = 'retina'\n",
    "from tqdm import tnrange, tqdm_notebook\n",
    "import joblib\n",
    "import os"
   ]
  },
  {
   "cell_type": "code",
   "execution_count": 2,
   "metadata": {},
   "outputs": [],
   "source": [
    "def deltas(jets, jets0):\n",
    "    for i in range(len(jets)):\n",
    "        yield jets0[i].perp() - jets[i].perp()\n",
    "\n",
    "def create_and_init_pythia(config_strings=[]):\n",
    "    pythia = pythia8.Pythia()\n",
    "    for s in config_strings:\n",
    "        pythia.readString(s)\n",
    "    for extra_s in [\"Next:numberShowEvent = 0\", \"Next:numberShowInfo = 0\", \"Next:numberShowProcess = 0\"]:\n",
    "        pythia.readString(extra_s)\n",
    "    if pythia.init():\n",
    "        return pythia\n",
    "    return None\n",
    "\n",
    "sconfig_pythia = [ \"Beams:eCM = 8000.\", \"HardQCD:all = on\", \"PhaseSpace:pTHatMin = 20.\"]\n",
    "pythia = create_and_init_pythia(sconfig_pythia)\n",
    "\n",
    "# set up our jet definition and a jet selector\n",
    "jet_R0 = 0.4\n",
    "jet_def = fj.JetDefinition(fj.antikt_algorithm, jet_R0)\n",
    "selector = fj.SelectorPtMin(20.0) & fj.SelectorPtMax(40.0) & fj.SelectorAbsEtaMax(1)\n",
    "sd = rt.SoftDrop(0, 0.1, 1.0)"
   ]
  },
  {
   "cell_type": "code",
   "execution_count": 15,
   "metadata": {},
   "outputs": [
    {
     "data": {
      "application/vnd.jupyter.widget-view+json": {
       "model_id": "e4011f2e32fc4621a63ecb5622207775",
       "version_major": 2,
       "version_minor": 0
      },
      "text/plain": [
       "HBox(children=(IntProgress(value=0, description='event', style=ProgressStyle(description_width='initial')), HT…"
      ]
     },
     "metadata": {},
     "output_type": "display_data"
    },
    {
     "name": "stdout",
     "output_type": "stream",
     "text": [
      "\n"
     ]
    }
   ],
   "source": [
    "all_jets = []\n",
    "for iEvent in tqdm_notebook(range(100), 'event'):\n",
    "    if not pythia.next(): continue\n",
    "    parts = pyfj.vectorize(pythia, True, -1, 1, False)\n",
    "    jets = jet_selector(jet_def(parts))\n",
    "    all_jets.extend(jets)"
   ]
  },
  {
   "cell_type": "code",
   "execution_count": 16,
   "metadata": {},
   "outputs": [],
   "source": [
    "jet_def_lund = fj.JetDefinition(fj.cambridge_algorithm, 1.0)\n",
    "lund_gen = lund.LundGenerator(jet_def_lund)"
   ]
  },
  {
   "cell_type": "code",
   "execution_count": 17,
   "metadata": {},
   "outputs": [
    {
     "name": "stdout",
     "output_type": "stream",
     "text": [
      "CPU times: user 577 µs, sys: 61 µs, total: 638 µs\n",
      "Wall time: 645 µs\n"
     ]
    }
   ],
   "source": [
    "%%time\n",
    "lunds = [lund_gen.result(j) for j in all_jets]"
   ]
  },
  {
   "cell_type": "code",
   "execution_count": 18,
   "metadata": {},
   "outputs": [
    {
     "name": "stdout",
     "output_type": "stream",
     "text": [
      "CPU times: user 765 µs, sys: 1 µs, total: 766 µs\n",
      "Wall time: 772 µs\n"
     ]
    }
   ],
   "source": [
    "%%time\n",
    "log_kt = []\n",
    "log_1oDelta = []\n",
    "for l in lunds:\n",
    "    for s in l:\n",
    "        log_kt.append(math.log(s.kt()))\n",
    "        log_1oDelta.append(math.log(1./s.Delta()))"
   ]
  },
  {
   "cell_type": "code",
   "execution_count": 19,
   "metadata": {},
   "outputs": [
    {
     "data": {
      "text/plain": [
       "(array([[0., 0., 0., ..., 0., 0., 0.],\n",
       "        [0., 0., 0., ..., 0., 0., 0.],\n",
       "        [0., 0., 0., ..., 0., 0., 0.],\n",
       "        ...,\n",
       "        [0., 0., 0., ..., 0., 0., 0.],\n",
       "        [0., 0., 0., ..., 0., 0., 0.],\n",
       "        [0., 0., 0., ..., 0., 0., 0.]]),\n",
       " array([0.91739709, 0.95405441, 0.99071172, 1.02736903, 1.06402635,\n",
       "        1.10068366, 1.13734098, 1.17399829, 1.2106556 , 1.24731292,\n",
       "        1.28397023, 1.32062755, 1.35728486, 1.39394217, 1.43059949,\n",
       "        1.4672568 , 1.50391412, 1.54057143, 1.57722874, 1.61388606,\n",
       "        1.65054337, 1.68720068, 1.723858  , 1.76051531, 1.79717263,\n",
       "        1.83382994, 1.87048725, 1.90714457, 1.94380188, 1.9804592 ,\n",
       "        2.01711651, 2.05377382, 2.09043114, 2.12708845, 2.16374577,\n",
       "        2.20040308, 2.23706039, 2.27371771, 2.31037502, 2.34703233,\n",
       "        2.38368965, 2.42034696, 2.45700428, 2.49366159, 2.5303189 ,\n",
       "        2.56697622, 2.60363353, 2.64029085, 2.67694816, 2.71360547,\n",
       "        2.75026279, 2.7869201 , 2.82357741, 2.86023473, 2.89689204,\n",
       "        2.93354936, 2.97020667, 3.00686398, 3.0435213 , 3.08017861,\n",
       "        3.11683593, 3.15349324, 3.19015055, 3.22680787, 3.26346518,\n",
       "        3.3001225 , 3.33677981, 3.37343712, 3.41009444, 3.44675175,\n",
       "        3.48340906, 3.52006638, 3.55672369, 3.59338101, 3.63003832,\n",
       "        3.66669563, 3.70335295, 3.74001026, 3.77666758, 3.81332489,\n",
       "        3.8499822 , 3.88663952, 3.92329683, 3.95995414, 3.99661146,\n",
       "        4.03326877, 4.06992609, 4.1065834 , 4.14324071, 4.17989803,\n",
       "        4.21655534, 4.25321266, 4.28986997, 4.32652728, 4.3631846 ,\n",
       "        4.39984191, 4.43649923, 4.47315654, 4.50981385, 4.54647117,\n",
       "        4.58312848]),\n",
       " array([-6.40784965, -6.32890428, -6.24995892, -6.17101356, -6.0920682 ,\n",
       "        -6.01312284, -5.93417748, -5.85523212, -5.77628675, -5.69734139,\n",
       "        -5.61839603, -5.53945067, -5.46050531, -5.38155995, -5.30261458,\n",
       "        -5.22366922, -5.14472386, -5.0657785 , -4.98683314, -4.90788778,\n",
       "        -4.82894241, -4.74999705, -4.67105169, -4.59210633, -4.51316097,\n",
       "        -4.43421561, -4.35527025, -4.27632488, -4.19737952, -4.11843416,\n",
       "        -4.0394888 , -3.96054344, -3.88159808, -3.80265271, -3.72370735,\n",
       "        -3.64476199, -3.56581663, -3.48687127, -3.40792591, -3.32898054,\n",
       "        -3.25003518, -3.17108982, -3.09214446, -3.0131991 , -2.93425374,\n",
       "        -2.85530838, -2.77636301, -2.69741765, -2.61847229, -2.53952693,\n",
       "        -2.46058157, -2.38163621, -2.30269084, -2.22374548, -2.14480012,\n",
       "        -2.06585476, -1.9869094 , -1.90796404, -1.82901867, -1.75007331,\n",
       "        -1.67112795, -1.59218259, -1.51323723, -1.43429187, -1.35534651,\n",
       "        -1.27640114, -1.19745578, -1.11851042, -1.03956506, -0.9606197 ,\n",
       "        -0.88167434, -0.80272897, -0.72378361, -0.64483825, -0.56589289,\n",
       "        -0.48694753, -0.40800217, -0.3290568 , -0.25011144, -0.17116608,\n",
       "        -0.09222072, -0.01327536,  0.06567   ,  0.14461536,  0.22356073,\n",
       "         0.30250609,  0.38145145,  0.46039681,  0.53934217,  0.61828753,\n",
       "         0.6972329 ,  0.77617826,  0.85512362,  0.93406898,  1.01301434,\n",
       "         1.0919597 ,  1.17090507,  1.24985043,  1.32879579,  1.40774115,\n",
       "         1.48668651]),\n",
       " <matplotlib.collections.QuadMesh at 0x1121c86a0>)"
      ]
     },
     "execution_count": 19,
     "metadata": {},
     "output_type": "execute_result"
    },
    {
     "data": {
      "image/png": "[encoded data removed]",
      "text/plain": [
       "<Figure size 432x288 with 1 Axes>"
      ]
     },
     "metadata": {
      "image/png": {
       "height": 251,
       "width": 376
      },
      "needs_background": "light"
     },
     "output_type": "display_data"
    }
   ],
   "source": [
    "plt.hist2d(log_1oDelta, log_kt, bins=100)"
   ]
  },
  {
   "cell_type": "code",
   "execution_count": 20,
   "metadata": {},
   "outputs": [],
   "source": [
    "if not os.path.exists('test_lund_2d.joblib'):\n",
    "    joblib.dump([log_1oDelta, log_kt], 'test_lund_2d.joblib') "
   ]
  },
  {
   "cell_type": "code",
   "execution_count": 21,
   "metadata": {},
   "outputs": [],
   "source": [
    "xy = joblib.load('test_lund_2d.joblib')"
   ]
  },
  {
   "cell_type": "code",
   "execution_count": 22,
   "metadata": {},
   "outputs": [
    {
     "data": {
      "text/plain": [
       "(array([[0., 0., 0., ..., 0., 0., 0.],\n",
       "        [0., 0., 0., ..., 1., 0., 0.],\n",
       "        [0., 0., 0., ..., 4., 2., 2.],\n",
       "        ...,\n",
       "        [0., 0., 0., ..., 0., 0., 0.],\n",
       "        [0., 0., 0., ..., 0., 0., 0.],\n",
       "        [0., 0., 0., ..., 0., 0., 0.]]),\n",
       " array([0.673456  , 0.75306704, 0.83267807, 0.91228911, 0.99190014,\n",
       "        1.07151117, 1.15112221, 1.23073324, 1.31034428, 1.38995531,\n",
       "        1.46956634, 1.54917738, 1.62878841, 1.70839945, 1.78801048,\n",
       "        1.86762152, 1.94723255, 2.02684358, 2.10645462, 2.18606565,\n",
       "        2.26567669, 2.34528772, 2.42489875, 2.50450979, 2.58412082,\n",
       "        2.66373186, 2.74334289, 2.82295393, 2.90256496, 2.98217599,\n",
       "        3.06178703, 3.14139806, 3.2210091 , 3.30062013, 3.38023116,\n",
       "        3.4598422 , 3.53945323, 3.61906427, 3.6986753 , 3.77828634,\n",
       "        3.85789737, 3.9375084 , 4.01711944, 4.09673047, 4.17634151,\n",
       "        4.25595254, 4.33556358, 4.41517461, 4.49478564, 4.57439668,\n",
       "        4.65400771, 4.73361875, 4.81322978, 4.89284081, 4.97245185,\n",
       "        5.05206288, 5.13167392, 5.21128495, 5.29089599, 5.37050702,\n",
       "        5.45011805, 5.52972909, 5.60934012, 5.68895116, 5.76856219,\n",
       "        5.84817322, 5.92778426, 6.00739529, 6.08700633, 6.16661736,\n",
       "        6.2462284 , 6.32583943, 6.40545046, 6.4850615 , 6.56467253,\n",
       "        6.64428357, 6.7238946 , 6.80350563, 6.88311667, 6.9627277 ,\n",
       "        7.04233874, 7.12194977, 7.20156081, 7.28117184, 7.36078287,\n",
       "        7.44039391, 7.52000494, 7.59961598, 7.67922701, 7.75883805,\n",
       "        7.83844908, 7.91806011, 7.99767115, 8.07728218, 8.15689322,\n",
       "        8.23650425, 8.31611528, 8.39572632, 8.47533735, 8.55494839,\n",
       "        8.63455942]),\n",
       " array([-9.2755429 , -9.16422856, -9.05291422, -8.94159987, -8.83028553,\n",
       "        -8.71897119, -8.60765685, -8.4963425 , -8.38502816, -8.27371382,\n",
       "        -8.16239948, -8.05108513, -7.93977079, -7.82845645, -7.71714211,\n",
       "        -7.60582776, -7.49451342, -7.38319908, -7.27188473, -7.16057039,\n",
       "        -7.04925605, -6.93794171, -6.82662736, -6.71531302, -6.60399868,\n",
       "        -6.49268434, -6.38136999, -6.27005565, -6.15874131, -6.04742697,\n",
       "        -5.93611262, -5.82479828, -5.71348394, -5.6021696 , -5.49085525,\n",
       "        -5.37954091, -5.26822657, -5.15691223, -5.04559788, -4.93428354,\n",
       "        -4.8229692 , -4.71165486, -4.60034051, -4.48902617, -4.37771183,\n",
       "        -4.26639748, -4.15508314, -4.0437688 , -3.93245446, -3.82114011,\n",
       "        -3.70982577, -3.59851143, -3.48719709, -3.37588274, -3.2645684 ,\n",
       "        -3.15325406, -3.04193972, -2.93062537, -2.81931103, -2.70799669,\n",
       "        -2.59668235, -2.485368  , -2.37405366, -2.26273932, -2.15142498,\n",
       "        -2.04011063, -1.92879629, -1.81748195, -1.70616761, -1.59485326,\n",
       "        -1.48353892, -1.37222458, -1.26091023, -1.14959589, -1.03828155,\n",
       "        -0.92696721, -0.81565286, -0.70433852, -0.59302418, -0.48170984,\n",
       "        -0.37039549, -0.25908115, -0.14776681, -0.03645247,  0.07486188,\n",
       "         0.18617622,  0.29749056,  0.4088049 ,  0.52011925,  0.63143359,\n",
       "         0.74274793,  0.85406227,  0.96537662,  1.07669096,  1.1880053 ,\n",
       "         1.29931964,  1.41063399,  1.52194833,  1.63326267,  1.74457702,\n",
       "         1.85589136]),\n",
       " <matplotlib.collections.QuadMesh at 0x12d0e3dd8>)"
      ]
     },
     "execution_count": 22,
     "metadata": {},
     "output_type": "execute_result"
    },
    {
     "data": {
      "image/png": "[encoded data removed]",
      "text/plain": [
       "<Figure size 432x288 with 1 Axes>"
      ]
     },
     "metadata": {
      "image/png": {
       "height": 251,
       "width": 374
      },
      "needs_background": "light"
     },
     "output_type": "display_data"
    }
   ],
   "source": [
    "plt.hist2d(xy[0], xy[1], bins=100)"
   ]
  }
 ],
 "metadata": {
  "kernelspec": {
   "display_name": "Python 3",
   "language": "python",
   "name": "python3"
  },
  "language_info": {
   "codemirror_mode": {
    "name": "ipython",
    "version": 3
   },
   "file_extension": ".py",
   "mimetype": "text/x-python",
   "name": "python",
   "nbconvert_exporter": "python",
   "pygments_lexer": "ipython3",
   "version": "3.7.3"
  }
 },
 "nbformat": 4,
 "nbformat_minor": 2
}
