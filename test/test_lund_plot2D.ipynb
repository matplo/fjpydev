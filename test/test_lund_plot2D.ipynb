{
 "cells": [
  {
   "cell_type": "code",
   "execution_count": 1,
   "metadata": {},
   "outputs": [],
   "source": [
    "import fastjet as fj\n",
    "import pythia8\n",
    "from recursivetools import pyrecursivetools as rt\n",
    "from lundplane import pylundplane as lund\n",
    "from pythiafjtools import pypythiafjtools as pyfj\n",
    "import math\n",
    "%matplotlib inline\n",
    "import matplotlib.pyplot as plt\n",
    "import seaborn as sns\n",
    "sns.set_context('notebook')\n",
    "%config InlineBackend.figure_format = 'retina'\n",
    "from tqdm import tnrange, tqdm_notebook\n",
    "import joblib\n",
    "import os"
   ]
  },
  {
   "cell_type": "code",
   "execution_count": 4,
   "metadata": {},
   "outputs": [],
   "source": [
    "def deltas(jets, jets0):\n",
    "    for i in range(len(jets)):\n",
    "        yield jets0[i].perp() - jets[i].perp()\n",
    "\n",
    "def create_and_init_pythia(config_strings=[]):\n",
    "    pythia = pythia8.Pythia()\n",
    "    for s in config_strings:\n",
    "        pythia.readString(s)\n",
    "    for extra_s in [\"Next:numberShowEvent = 0\", \"Next:numberShowInfo = 0\", \"Next:numberShowProcess = 0\"]:\n",
    "        pythia.readString(extra_s)\n",
    "    if pythia.init():\n",
    "        return pythia\n",
    "    return None\n",
    "\n",
    "sconfig_pythia = [ \"Beams:eCM = 8000.\", \"HardQCD:all = on\", \"PhaseSpace:pTHatMin = 100.\"]\n",
    "pythia = create_and_init_pythia(sconfig_pythia)\n",
    "\n",
    "# set up our jet definition and a jet selector\n",
    "jet_R0 = 0.4\n",
    "jet_def = fj.JetDefinition(fj.antikt_algorithm, jet_R0)\n",
    "jet_selector = fj.SelectorPtMin(100.0) & fj.SelectorPtMax(200.0) & fj.SelectorAbsEtaMax(1)\n",
    "sd = rt.SoftDrop(0, 0.1, 1.0)"
   ]
  },
  {
   "cell_type": "code",
   "execution_count": 14,
   "metadata": {},
   "outputs": [
    {
     "data": {
      "application/vnd.jupyter.widget-view+json": {
       "model_id": "d2c33923eeda4067a8dcd228ca9f4e3e",
       "version_major": 2,
       "version_minor": 0
      },
      "text/plain": [
       "HBox(children=(IntProgress(value=0, description='event', max=10000, style=ProgressStyle(description_width='ini…"
      ]
     },
     "metadata": {},
     "output_type": "display_data"
    },
    {
     "name": "stdout",
     "output_type": "stream",
     "text": [
      "\n"
     ]
    }
   ],
   "source": [
    "all_jets = []\n",
    "for iEvent in tqdm_notebook(range(10000), 'event'):\n",
    "    if not pythia.next(): continue\n",
    "    parts = pyfj.vectorize(pythia, True, -1, 1, False)\n",
    "    jets = jet_selector(jet_def(parts))\n",
    "    all_jets.extend(jets)"
   ]
  },
  {
   "cell_type": "code",
   "execution_count": 15,
   "metadata": {},
   "outputs": [],
   "source": [
    "jet_def_lund = fj.JetDefinition(fj.cambridge_algorithm, 1.0)\n",
    "lund_gen = lund.LundGenerator(jet_def_lund)"
   ]
  },
  {
   "cell_type": "code",
   "execution_count": 16,
   "metadata": {},
   "outputs": [
    {
     "name": "stdout",
     "output_type": "stream",
     "text": [
      "CPU times: user 177 ms, sys: 24.6 ms, total: 202 ms\n",
      "Wall time: 201 ms\n"
     ]
    }
   ],
   "source": [
    "%%time\n",
    "lunds = [lund_gen.result(j) for j in all_jets]"
   ]
  },
  {
   "cell_type": "code",
   "execution_count": 17,
   "metadata": {},
   "outputs": [
    {
     "name": "stdout",
     "output_type": "stream",
     "text": [
      "CPU times: user 236 ms, sys: 5.35 ms, total: 242 ms\n",
      "Wall time: 241 ms\n"
     ]
    }
   ],
   "source": [
    "%%time\n",
    "log_kt = []\n",
    "log_1oDelta = []\n",
    "for l in lunds:\n",
    "    for s in l:\n",
    "        log_kt.append(math.log(s.kt()))\n",
    "        log_1oDelta.append(math.log(1./s.Delta()))"
   ]
  },
  {
   "cell_type": "code",
   "execution_count": 18,
   "metadata": {},
   "outputs": [
    {
     "data": {
      "text/plain": [
       "(array([[0., 0., 0., ..., 0., 1., 0.],\n",
       "        [0., 0., 0., ..., 0., 0., 0.],\n",
       "        [0., 0., 0., ..., 1., 0., 1.],\n",
       "        ...,\n",
       "        [0., 0., 0., ..., 0., 0., 0.],\n",
       "        [0., 0., 0., ..., 0., 0., 0.],\n",
       "        [0., 0., 0., ..., 0., 0., 0.]]),\n",
       " array([0.71877698, 0.80726428, 0.89575159, 0.98423889, 1.0727262 ,\n",
       "        1.1612135 , 1.2497008 , 1.33818811, 1.42667541, 1.51516272,\n",
       "        1.60365002, 1.69213732, 1.78062463, 1.86911193, 1.95759924,\n",
       "        2.04608654, 2.13457384, 2.22306115, 2.31154845, 2.40003576,\n",
       "        2.48852306, 2.57701036, 2.66549767, 2.75398497, 2.84247228,\n",
       "        2.93095958, 3.01944688, 3.10793419, 3.19642149, 3.2849088 ,\n",
       "        3.3733961 , 3.4618834 , 3.55037071, 3.63885801, 3.72734532,\n",
       "        3.81583262, 3.90431992, 3.99280723, 4.08129453, 4.16978183,\n",
       "        4.25826914, 4.34675644, 4.43524375, 4.52373105, 4.61221835,\n",
       "        4.70070566, 4.78919296, 4.87768027, 4.96616757, 5.05465487,\n",
       "        5.14314218, 5.23162948, 5.32011679, 5.40860409, 5.49709139,\n",
       "        5.5855787 , 5.674066  , 5.76255331, 5.85104061, 5.93952791,\n",
       "        6.02801522, 6.11650252, 6.20498983, 6.29347713, 6.38196443,\n",
       "        6.47045174, 6.55893904, 6.64742635, 6.73591365, 6.82440095,\n",
       "        6.91288826, 7.00137556, 7.08986287, 7.17835017, 7.26683747,\n",
       "        7.35532478, 7.44381208, 7.53229939, 7.62078669, 7.70927399,\n",
       "        7.7977613 , 7.8862486 , 7.97473591, 8.06322321, 8.15171051,\n",
       "        8.24019782, 8.32868512, 8.41717242, 8.50565973, 8.59414703,\n",
       "        8.68263434, 8.77112164, 8.85960894, 8.94809625, 9.03658355,\n",
       "        9.12507086, 9.21355816, 9.30204546, 9.39053277, 9.47902007,\n",
       "        9.56750738]),\n",
       " array([-8.56809978, -8.44647807, -8.32485637, -8.20323466, -8.08161296,\n",
       "        -7.95999125, -7.83836955, -7.71674784, -7.59512614, -7.47350444,\n",
       "        -7.35188273, -7.23026103, -7.10863932, -6.98701762, -6.86539591,\n",
       "        -6.74377421, -6.6221525 , -6.5005308 , -6.37890909, -6.25728739,\n",
       "        -6.13566568, -6.01404398, -5.89242227, -5.77080057, -5.64917886,\n",
       "        -5.52755716, -5.40593546, -5.28431375, -5.16269205, -5.04107034,\n",
       "        -4.91944864, -4.79782693, -4.67620523, -4.55458352, -4.43296182,\n",
       "        -4.31134011, -4.18971841, -4.0680967 , -3.946475  , -3.82485329,\n",
       "        -3.70323159, -3.58160988, -3.45998818, -3.33836648, -3.21674477,\n",
       "        -3.09512307, -2.97350136, -2.85187966, -2.73025795, -2.60863625,\n",
       "        -2.48701454, -2.36539284, -2.24377113, -2.12214943, -2.00052772,\n",
       "        -1.87890602, -1.75728431, -1.63566261, -1.5140409 , -1.3924192 ,\n",
       "        -1.2707975 , -1.14917579, -1.02755409, -0.90593238, -0.78431068,\n",
       "        -0.66268897, -0.54106727, -0.41944556, -0.29782386, -0.17620215,\n",
       "        -0.05458045,  0.06704126,  0.18866296,  0.31028467,  0.43190637,\n",
       "         0.55352808,  0.67514978,  0.79677148,  0.91839319,  1.04001489,\n",
       "         1.1616366 ,  1.2832583 ,  1.40488001,  1.52650171,  1.64812342,\n",
       "         1.76974512,  1.89136683,  2.01298853,  2.13461024,  2.25623194,\n",
       "         2.37785365,  2.49947535,  2.62109706,  2.74271876,  2.86434046,\n",
       "         2.98596217,  3.10758387,  3.22920558,  3.35082728,  3.47244899,\n",
       "         3.59407069]),\n",
       " <matplotlib.collections.QuadMesh at 0x12913fa90>)"
      ]
     },
     "execution_count": 18,
     "metadata": {},
     "output_type": "execute_result"
    },
    {
     "data": {
      "image/png": "[encoded data removed]",
      "text/plain": [
       "<Figure size 432x288 with 1 Axes>"
      ]
     },
     "metadata": {
      "image/png": {
       "height": 251,
       "width": 374
      },
      "needs_background": "light"
     },
     "output_type": "display_data"
    }
   ],
   "source": [
    "plt.hist2d(log_1oDelta, log_kt, bins=100)"
   ]
  },
  {
   "cell_type": "code",
   "execution_count": 19,
   "metadata": {},
   "outputs": [
    {
     "data": {
      "text/plain": [
       "(array([[0., 0., 0., ..., 0., 0., 0.],\n",
       "        [0., 0., 0., ..., 1., 0., 0.],\n",
       "        [0., 0., 0., ..., 4., 2., 2.],\n",
       "        ...,\n",
       "        [0., 0., 0., ..., 0., 0., 0.],\n",
       "        [0., 0., 0., ..., 0., 0., 0.],\n",
       "        [0., 0., 0., ..., 0., 0., 0.]]),\n",
       " array([0.673456  , 0.75306704, 0.83267807, 0.91228911, 0.99190014,\n",
       "        1.07151117, 1.15112221, 1.23073324, 1.31034428, 1.38995531,\n",
       "        1.46956634, 1.54917738, 1.62878841, 1.70839945, 1.78801048,\n",
       "        1.86762152, 1.94723255, 2.02684358, 2.10645462, 2.18606565,\n",
       "        2.26567669, 2.34528772, 2.42489875, 2.50450979, 2.58412082,\n",
       "        2.66373186, 2.74334289, 2.82295393, 2.90256496, 2.98217599,\n",
       "        3.06178703, 3.14139806, 3.2210091 , 3.30062013, 3.38023116,\n",
       "        3.4598422 , 3.53945323, 3.61906427, 3.6986753 , 3.77828634,\n",
       "        3.85789737, 3.9375084 , 4.01711944, 4.09673047, 4.17634151,\n",
       "        4.25595254, 4.33556358, 4.41517461, 4.49478564, 4.57439668,\n",
       "        4.65400771, 4.73361875, 4.81322978, 4.89284081, 4.97245185,\n",
       "        5.05206288, 5.13167392, 5.21128495, 5.29089599, 5.37050702,\n",
       "        5.45011805, 5.52972909, 5.60934012, 5.68895116, 5.76856219,\n",
       "        5.84817322, 5.92778426, 6.00739529, 6.08700633, 6.16661736,\n",
       "        6.2462284 , 6.32583943, 6.40545046, 6.4850615 , 6.56467253,\n",
       "        6.64428357, 6.7238946 , 6.80350563, 6.88311667, 6.9627277 ,\n",
       "        7.04233874, 7.12194977, 7.20156081, 7.28117184, 7.36078287,\n",
       "        7.44039391, 7.52000494, 7.59961598, 7.67922701, 7.75883805,\n",
       "        7.83844908, 7.91806011, 7.99767115, 8.07728218, 8.15689322,\n",
       "        8.23650425, 8.31611528, 8.39572632, 8.47533735, 8.55494839,\n",
       "        8.63455942]),\n",
       " array([-9.2755429 , -9.16422856, -9.05291422, -8.94159987, -8.83028553,\n",
       "        -8.71897119, -8.60765685, -8.4963425 , -8.38502816, -8.27371382,\n",
       "        -8.16239948, -8.05108513, -7.93977079, -7.82845645, -7.71714211,\n",
       "        -7.60582776, -7.49451342, -7.38319908, -7.27188473, -7.16057039,\n",
       "        -7.04925605, -6.93794171, -6.82662736, -6.71531302, -6.60399868,\n",
       "        -6.49268434, -6.38136999, -6.27005565, -6.15874131, -6.04742697,\n",
       "        -5.93611262, -5.82479828, -5.71348394, -5.6021696 , -5.49085525,\n",
       "        -5.37954091, -5.26822657, -5.15691223, -5.04559788, -4.93428354,\n",
       "        -4.8229692 , -4.71165486, -4.60034051, -4.48902617, -4.37771183,\n",
       "        -4.26639748, -4.15508314, -4.0437688 , -3.93245446, -3.82114011,\n",
       "        -3.70982577, -3.59851143, -3.48719709, -3.37588274, -3.2645684 ,\n",
       "        -3.15325406, -3.04193972, -2.93062537, -2.81931103, -2.70799669,\n",
       "        -2.59668235, -2.485368  , -2.37405366, -2.26273932, -2.15142498,\n",
       "        -2.04011063, -1.92879629, -1.81748195, -1.70616761, -1.59485326,\n",
       "        -1.48353892, -1.37222458, -1.26091023, -1.14959589, -1.03828155,\n",
       "        -0.92696721, -0.81565286, -0.70433852, -0.59302418, -0.48170984,\n",
       "        -0.37039549, -0.25908115, -0.14776681, -0.03645247,  0.07486188,\n",
       "         0.18617622,  0.29749056,  0.4088049 ,  0.52011925,  0.63143359,\n",
       "         0.74274793,  0.85406227,  0.96537662,  1.07669096,  1.1880053 ,\n",
       "         1.29931964,  1.41063399,  1.52194833,  1.63326267,  1.74457702,\n",
       "         1.85589136]),\n",
       " <matplotlib.collections.QuadMesh at 0x10a790eb8>)"
      ]
     },
     "execution_count": 19,
     "metadata": {},
     "output_type": "execute_result"
    },
    {
     "data": {
      "image/png": "[encoded data removed]",
      "text/plain": [
       "<Figure size 432x288 with 1 Axes>"
      ]
     },
     "metadata": {
      "image/png": {
       "height": 251,
       "width": 374
      },
      "needs_background": "light"
     },
     "output_type": "display_data"
    }
   ],
   "source": [
    "if not os.path.exists('test_lund_2d.joblib'):\n",
    "    joblib.dump([log_1oDelta, log_kt], 'test_lund_2d.joblib') \n",
    "xy = joblib.load('test_lund_2d.joblib')\n",
    "plt.hist2d(xy[0], xy[1], bins=100)"
   ]
  },
  {
   "cell_type": "code",
   "execution_count": null,
   "metadata": {},
   "outputs": [],
   "source": []
  }
 ],
 "metadata": {
  "kernelspec": {
   "display_name": "Python 3",
   "language": "python",
   "name": "python3"
  },
  "language_info": {
   "codemirror_mode": {
    "name": "ipython",
    "version": 3
   },
   "file_extension": ".py",
   "mimetype": "text/x-python",
   "name": "python",
   "nbconvert_exporter": "python",
   "pygments_lexer": "ipython3",
   "version": "3.7.3"
  }
 },
 "nbformat": 4,
 "nbformat_minor": 2
}
